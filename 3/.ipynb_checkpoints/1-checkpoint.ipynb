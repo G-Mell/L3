{
 "cells": [
  {
   "cell_type": "code",
   "execution_count": 8,
   "metadata": {},
   "outputs": [],
   "source": [
    "class Fraction(object): \n",
    " \n",
    "  def __init__(self, num, den): \n",
    "    self.__num = num \n",
    "    self.__den = den \n",
    "    self.reduce() \n",
    " \n",
    "  def __str__(self): \n",
    "        return \"%d/%d\" % (self.__num, self.__den)\n",
    "\n",
    "def __neg__(self):\n",
    "    return Fraction(-self.__num, self.__den)\n",
    "    \n",
    "def __invert__(self):\n",
    "    return Fraction(self.__den, self.__num)\n",
    "    \n",
    "def __pow__(self, other):\n",
    "    return Fraction(self.__num**other, self.__den**other)\n",
    "    \n",
    "def __float__(self):\n",
    "    return float(self.__num/self.__den)\n",
    "    \n",
    "def __int__(self):\n",
    "    return int(self.__num/self.__den)\n",
    "    \n",
    "def reduce(self): \n",
    "    g = Fraction.gcd(self.__num, self.__den)   \n",
    "    self.__num /= g \n",
    "    self.__den /= g \n",
    " \n",
    "    @staticmethod \n",
    "    def gcd(n, m):  \n",
    "        if m == 0: \n",
    "            return n \n",
    "        else: \n",
    "            return Fraction.gcd(m, n % m) \n",
    "\n",
    "        frac = Fraction(7, 2)\n",
    "        print(frac)\n",
    "        print(-frac)\n",
    "        print(~frac)\n",
    "        print(frac**2)\n",
    "        print(float(frac))\n",
    "        print(int(frac))\n"
   ]
  },
  {
   "cell_type": "code",
   "execution_count": null,
   "metadata": {},
   "outputs": [],
   "source": []
  },
  {
   "cell_type": "code",
   "execution_count": null,
   "metadata": {},
   "outputs": [],
   "source": []
  }
 ],
 "metadata": {
  "kernelspec": {
   "display_name": "Python 3",
   "language": "python",
   "name": "python3"
  },
  "language_info": {
   "codemirror_mode": {
    "name": "ipython",
    "version": 3
   },
   "file_extension": ".py",
   "mimetype": "text/x-python",
   "name": "python",
   "nbconvert_exporter": "python",
   "pygments_lexer": "ipython3",
   "version": "3.7.4"
  }
 },
 "nbformat": 4,
 "nbformat_minor": 2
}
