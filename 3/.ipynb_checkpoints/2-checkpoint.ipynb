{
 "cells": [
  {
   "cell_type": "code",
   "execution_count": 1,
   "metadata": {},
   "outputs": [
    {
     "name": "stdout",
     "output_type": "stream",
     "text": [
      "[1] L. ['Tolstoi'] \"War and Peace\"\n",
      "['War', 'Peace']\n",
      "[2] Д. ['Р.', 'Р.', 'Мартин'] \"Игра престолов\"\n",
      "['Игра']\n"
     ]
    }
   ],
   "source": [
    "\n",
    "class Taggable(object):\n",
    "    def tag(self):\n",
    "        raise NotImplementedError( \"Не реализован метод tag у Book\" )\n",
    "        \n",
    "class Book(Taggable) :\n",
    "    key = 1\n",
    "    def __init__(self, name, author) :\n",
    "        assert (len(name)!=0), \"Введите название книги!\"\n",
    "        assert (len(author)!=0), \"Введите автора книги!\"\n",
    "        self.name = name\n",
    "        self.author = author\n",
    "        self.key = self.__class__.key\n",
    "        self.__class__.key += 1\n",
    "    \n",
    "    def tag(self):\n",
    "        res = self.name.split()\n",
    "        for x in res:\n",
    "            if not x.istitle():\n",
    "                res.remove(x)\n",
    "                return res\n",
    "    \n",
    "    def __str__(self):\n",
    "        aut = self.author.split(' ')\n",
    "        LastName = aut[1:]\n",
    "        LastName = str(LastName)\n",
    "        return '[%d] %.1s. %s \"%s\"' % (self.key, self.author, LastName, self.name)\n",
    "        \n",
    "class Library (Book) :\n",
    "    def __init__(self, number, name):\n",
    "        assert (len(name)!=0), \"Введите название библиотеки!\"\n",
    "        self.number = number\n",
    "        self.name = name\n",
    "        self.book = []\n",
    "        self.itr = -1\n",
    "        \n",
    "    def __iadd__(self, other):\n",
    "        self.book.append(other)\n",
    "        return self\n",
    "    \n",
    "    def itr(self):\n",
    "        return self.book\n",
    "    \n",
    "    def __iter__(self):\n",
    "        return self\n",
    "\n",
    "    def __next__(self):\n",
    "        self.itr = self.itr  + 1\n",
    "        if self.itr < len(self.book):\n",
    "            name = self.book[self.itr].name\n",
    "            author = self.book[self.itr].author\n",
    "            key = self.book[self.itr].key\n",
    "            #print('[' + str(key) + '] ' + author + ' \\'' + name + '\\'')\n",
    "            return self.book[self.itr]\n",
    "        raise StopIteration\n",
    "\n",
    "lib = Library(1, '51 Some str., NY')\n",
    "lib += Book('War and Peace', 'Lev Tolstoi')\n",
    "lib += Book('Игра престолов', 'Джордж Р. Р. Мартин')\n",
    "\n",
    "for book in lib:\n",
    "    print(book)\n",
    "    print(book.tag())\n",
    "    \n",
    "\n"
   ]
  },
  {
   "cell_type": "code",
   "execution_count": null,
   "metadata": {},
   "outputs": [],
   "source": []
  }
 ],
 "metadata": {
  "kernelspec": {
   "display_name": "Python 3",
   "language": "python",
   "name": "python3"
  },
  "language_info": {
   "codemirror_mode": {
    "name": "ipython",
    "version": 3
   },
   "file_extension": ".py",
   "mimetype": "text/x-python",
   "name": "python",
   "nbconvert_exporter": "python",
   "pygments_lexer": "ipython3",
   "version": "3.7.4"
  }
 },
 "nbformat": 4,
 "nbformat_minor": 2
}
