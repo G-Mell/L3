{
 "cells": [
  {
   "cell_type": "code",
   "execution_count": 9,
   "metadata": {},
   "outputs": [
    {
     "name": "stdout",
     "output_type": "stream",
     "text": [
      "таджики носители корон\n",
      "лечу в *****\n",
      "н а с а м о м д е л е \n",
      "н и ч е г   н е   и м е ю   п р о т и в   т а д ж и к о в\n",
      "по слов размеру Сортировка\n",
      "Сортировка слов по лексикографическому значению\n"
     ]
    }
   ],
   "source": [
    "class StringFormatter:\n",
    "\tdef delNLines(self, string, n):\n",
    "\t\twordslist = string.split(' ')\n",
    "\t\tfor i in wordslist:\n",
    "\t\t\tif len(i) < n:\n",
    "\t\t\t\twordslist.remove(i)\n",
    "\t\treturn ' '.join(wordslist)\n",
    "\t\t\n",
    "\tdef replaceNumbers(self, string):\n",
    "\t\ttempstr = string.translate(str.maketrans('0123456789', '**********'))\n",
    "\t\treturn tempstr\n",
    "\n",
    "\t#vers 1\n",
    "\tdef addSpaces(self, string):\n",
    "\t\ttempstr = ''\n",
    "\t\tfor i in string:\n",
    "\t\t\tif not i == ' ':\n",
    "\t\t\t\ttempstr += i + ' '\n",
    "\t\treturn tempstr\n",
    "\t#vers 2\n",
    "\tdef addSpaces2(self, string):\n",
    "\t\treturn ' '.join(list(string))\n",
    "\t\t\n",
    "\tdef sortByLenght(self, string):\n",
    "\t\tdef SBL(str):\n",
    "\t\t\treturn len(str)\n",
    "\t\ttemplst = string.split(' ')\n",
    "\t\ttemplst.sort(key=SBL)\n",
    "\t\treturn ' '.join(templst)\n",
    "\n",
    "\tdef lexOrder(self, string):\n",
    "\t\tlexlist = string.split(' ')\n",
    "\t\tleslist = sorted(lexlist, key=lambda x:(str.lower(x),x))\n",
    "\t\treturn ' '.join(lexlist)\n",
    "\t\t\t\n",
    "SFor = StringFormatter()\n",
    "\n",
    "print(SFor.delNLines('Мы таджики мы носители корон',3))\n",
    "print(SFor.replaceNumbers('лечу в 12345'))\n",
    "print(SFor.addSpaces('на самом деле'))\n",
    "print(SFor.addSpaces2('ничег не имею против таджиков'))\n",
    "print(SFor.sortByLenght('Сортировка слов по размеру'))\n",
    "print(SFor.lexOrder('Сортировка слов по лексикографическому значению'))\n"
   ]
  },
  {
   "cell_type": "code",
   "execution_count": null,
   "metadata": {},
   "outputs": [],
   "source": []
  }
 ],
 "metadata": {
  "kernelspec": {
   "display_name": "Python 3",
   "language": "python",
   "name": "python3"
  },
  "language_info": {
   "codemirror_mode": {
    "name": "ipython",
    "version": 3
   },
   "file_extension": ".py",
   "mimetype": "text/x-python",
   "name": "python",
   "nbconvert_exporter": "python",
   "pygments_lexer": "ipython3",
   "version": "3.7.4"
  }
 },
 "nbformat": 4,
 "nbformat_minor": 2
}
